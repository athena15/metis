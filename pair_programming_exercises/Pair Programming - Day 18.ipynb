{
 "cells": [
  {
   "cell_type": "markdown",
   "metadata": {},
   "source": [
    "#### Pair Problem\n",
    "\n",
    "This is a classic problem. This particular wording is varition on the text from [Cracking the Coding Interview](http://www.amazon.com/Cracking-Coding-Interview-Programming-Questions/dp/098478280X) (question 9.8):\n",
    "\n",
    "**For questions 1, 2 and 3, you don't need recursion. For question 4, try to see if you can do it without recursion. Then do question 4 with recursion.**\n",
    "\n",
    "1) Given enough pennies (1 cent) and nickels (5 cents), how many ways can you make change for a given amount of cents? Your function will be def ways(cents).\n",
    "\n",
    "    Example: ways(12) will return 3. \n",
    "    (Because there are three ways: 2 nickels and 2 pennies, 1 nickels and 7 pennies, 12 pennies.)\n",
    "\n",
    "2) Given enough pennies (1 cent), nickels (5 cents) and dimes (10 cents), how many ways can you make change?\n",
    "\n",
    "3) Given enough pennies (1 cent), nickels (5 cents), dimes (10 cents) and quarters (25 cents), how many ways can you make change?\n",
    "\n",
    "4) Given an arbitrary set of coin types, how many ways can you make change? Your function will now look like this:\n",
    "\n",
    "    def ways(cents,coinTypes):\n",
    "  \n",
    "  And you will call it this way:\n",
    "  \n",
    "    ways(100,[25, 10, 5, 1])\n",
    "    242"
   ]
  },
  {
   "cell_type": "code",
   "execution_count": 1,
   "metadata": {},
   "outputs": [],
   "source": [
    "def ways(n):\n",
    "    x = n // 5\n",
    "    return x + 1"
   ]
  },
  {
   "cell_type": "code",
   "execution_count": 2,
   "metadata": {},
   "outputs": [
    {
     "data": {
      "text/plain": [
       "6"
      ]
     },
     "execution_count": 2,
     "metadata": {},
     "output_type": "execute_result"
    }
   ],
   "source": [
    "ways(25)"
   ]
  },
  {
   "cell_type": "code",
   "execution_count": 3,
   "metadata": {},
   "outputs": [],
   "source": [
    "def ways_2(n):\n",
    "    x = n // 10\n",
    "    y = n // 5\n",
    "    remainder = x % 10 + y % 5\n",
    "    return x + y + 2"
   ]
  },
  {
   "cell_type": "code",
   "execution_count": 4,
   "metadata": {},
   "outputs": [],
   "source": [
    "from itertools import combinations"
   ]
  },
  {
   "cell_type": "code",
   "execution_count": 5,
   "metadata": {},
   "outputs": [
    {
     "data": {
      "text/plain": [
       "9"
      ]
     },
     "execution_count": 5,
     "metadata": {},
     "output_type": "execute_result"
    }
   ],
   "source": [
    "ways_2(25)"
   ]
  },
  {
   "cell_type": "code",
   "execution_count": 6,
   "metadata": {},
   "outputs": [],
   "source": [
    "def ways_3(n):\n",
    "    x = n // 25\n",
    "    y = n // 10\n",
    "    z = n // 5\n",
    "    remainder = x % 10 + y % 5\n",
    "    return x + y + z + 3"
   ]
  },
  {
   "cell_type": "code",
   "execution_count": 7,
   "metadata": {},
   "outputs": [
    {
     "data": {
      "text/plain": [
       "9"
      ]
     },
     "execution_count": 7,
     "metadata": {},
     "output_type": "execute_result"
    }
   ],
   "source": [
    "ways_3(21)"
   ]
  },
  {
   "cell_type": "code",
   "execution_count": 8,
   "metadata": {},
   "outputs": [],
   "source": [
    "def ways_4(n, cointypes):\n",
    "    l=[]\n",
    "    count=0\n",
    "    for den in cointypes:\n",
    "        if den != 0 and den!=1:\n",
    "            l.append(n // den)\n",
    "            print( l)\n",
    "            count+=1\n",
    "    return sum(l)+count     "
   ]
  },
  {
   "cell_type": "code",
   "execution_count": 9,
   "metadata": {},
   "outputs": [],
   "source": [
    "def ways_5(n, cointypes):\n",
    "    x = n // 25\n",
    "    y = n // 10\n",
    "    z = n // 5"
   ]
  },
  {
   "cell_type": "code",
   "execution_count": 26,
   "metadata": {},
   "outputs": [],
   "source": [
    "def ways_5(n, cointypes):\n",
    "    total = 0\n",
    "    for coin in cointypes:\n",
    "        x = n // coin\n",
    "        total += x + 1\n",
    "    return total"
   ]
  },
  {
   "cell_type": "code",
   "execution_count": null,
   "metadata": {},
   "outputs": [],
   "source": [
    "# This is an example snippet!\n",
    "# To create your own, add a new snippet block to the\n",
    "# snippets.json file in your jupyter nbextensions directory:\n",
    "# /nbextensions/snippets/snippets.json\n",
    "import this"
   ]
  },
  {
   "cell_type": "code",
   "execution_count": 29,
   "metadata": {},
   "outputs": [],
   "source": [
    "str='''import pandas as pd\n",
    "import numpy as np\n",
    "import seaborn as sns\n",
    "import matplotlib.pyplot as plt\n",
    "import matplotlib.style as style\n",
    "style.use('seaborn-whitegrid')\n",
    "%matplotlib inline\n",
    "import pickle\n",
    "from collections import defaultdict\n",
    "\n",
    "pd.set_option('max_rows', 10)\n",
    "pd.set_option('max_colwidth', -1)\n",
    "pd.set_option('display.width', 150)\n",
    "\n",
    "import warnings\n",
    "# warnings.filterwarnings(\"ignore\")\n",
    "\n",
    "# Change format of charts to .svg\n",
    "%config InlineBackend.figure_format = ‘svg'\n",
    "\n",
    "%xmode'''"
   ]
  },
  {
   "cell_type": "code",
   "execution_count": 30,
   "metadata": {},
   "outputs": [
    {
     "data": {
      "text/plain": [
       "'import pandas as pd\\nimport numpy as np\\nimport seaborn as sns\\nimport matplotlib.pyplot as plt\\nimport matplotlib.style as style\\nstyle.use(\\'seaborn-whitegrid\\')\\n%matplotlib inline\\nimport pickle\\nfrom collections import defaultdict\\n\\npd.set_option(\\'max_rows\\', 10)\\npd.set_option(\\'max_colwidth\\', -1)\\npd.set_option(\\'display.width\\', 150)\\n\\nimport warnings\\n# warnings.filterwarnings(\"ignore\")\\n\\n# Change format of charts to .svg\\n%config InlineBackend.figure_format = ‘svg\\'\\n\\n%xmode'"
      ]
     },
     "execution_count": 30,
     "metadata": {},
     "output_type": "execute_result"
    }
   ],
   "source": []
  },
  {
   "cell_type": "code",
   "execution_count": 27,
   "metadata": {},
   "outputs": [
    {
     "data": {
      "text/plain": [
       "138"
      ]
     },
     "execution_count": 27,
     "metadata": {},
     "output_type": "execute_result"
    }
   ],
   "source": [
    "ways_5(100,[25, 10, 5, 1])"
   ]
  }
 ],
 "metadata": {
  "kernelspec": {
   "display_name": "Python 3",
   "language": "python",
   "name": "python3"
  },
  "language_info": {
   "codemirror_mode": {
    "name": "ipython",
    "version": 3
   },
   "file_extension": ".py",
   "mimetype": "text/x-python",
   "name": "python",
   "nbconvert_exporter": "python",
   "pygments_lexer": "ipython3",
   "version": "3.6.6"
  },
  "varInspector": {
   "cols": {
    "lenName": 16,
    "lenType": 16,
    "lenVar": 40
   },
   "kernels_config": {
    "python": {
     "delete_cmd_postfix": "",
     "delete_cmd_prefix": "del ",
     "library": "var_list.py",
     "varRefreshCmd": "print(var_dic_list())"
    },
    "r": {
     "delete_cmd_postfix": ") ",
     "delete_cmd_prefix": "rm(",
     "library": "var_list.r",
     "varRefreshCmd": "cat(var_dic_list()) "
    }
   },
   "position": {
    "height": "363.722px",
    "left": "1157.27px",
    "right": "20px",
    "top": "120px",
    "width": "354.162px"
   },
   "types_to_exclude": [
    "module",
    "function",
    "builtin_function_or_method",
    "instance",
    "_Feature"
   ],
   "window_display": false
  }
 },
 "nbformat": 4,
 "nbformat_minor": 2
}
