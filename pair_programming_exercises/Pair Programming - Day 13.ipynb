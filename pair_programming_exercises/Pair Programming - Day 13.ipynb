{
 "cells": [
  {
   "cell_type": "markdown",
   "metadata": {},
   "source": [
    "From https://www.codewars.com/kata/email-validation-1/python\n",
    "\n",
    "#### Write a function to test whether a given input is a valid email address.\n",
    "\n",
    "For the purposes of this kata, here is what makes a valid email:\n",
    "\n",
    "At least one letter character at the beginning\n",
    "All characters between the first character and the @ (if any) must be letters, numbers, or underscores\n",
    "There must be an @ character (after the points listed just now)\n",
    "After the @ character, there must be at least one word character (letter, number, or underscore) or hyphen\n",
    "The email must end with at least one set of a dot followed by one or more word characters.\n",
    "The input must NOT be case-sensitive\n",
    "The function should return true or false.\n",
    "\n"
   ]
  },
  {
   "cell_type": "code",
   "execution_count": 1,
   "metadata": {},
   "outputs": [],
   "source": [
    "import re"
   ]
  },
  {
   "cell_type": "code",
   "execution_count": 43,
   "metadata": {},
   "outputs": [],
   "source": [
    "address_1 = 'jim@jp.org' #True\n",
    "address_2 = 'j.a.johnson@uw.sciences.edu' #False - periods before the '@' are not allowed for purposes of this kata\n",
    "address_3 = 'dfjoek@dfjek' #False\n",
    "address_4 = '_bc@example.com' #False"
   ]
  },
  {
   "cell_type": "code",
   "execution_count": 45,
   "metadata": {},
   "outputs": [],
   "source": [
    "import re\n",
    "\n",
    "def validate(input_):\n",
    "    if match = re.search('^[a-z][a-z0-9\\_]*@[a-z0-9_-]+\\.[a-z0-9\\.]+$', input_.lower())\n",
    "        return True\n",
    "    else:\n",
    "        return False"
   ]
  },
  {
   "cell_type": "code",
   "execution_count": 47,
   "metadata": {},
   "outputs": [
    {
     "data": {
      "text/plain": [
       "True"
      ]
     },
     "execution_count": 47,
     "metadata": {},
     "output_type": "execute_result"
    }
   ],
   "source": [
    "validate(address_1)"
   ]
  }
 ],
 "metadata": {
  "kernelspec": {
   "display_name": "Python 3",
   "language": "python",
   "name": "python3"
  },
  "language_info": {
   "codemirror_mode": {
    "name": "ipython",
    "version": 3
   },
   "file_extension": ".py",
   "mimetype": "text/x-python",
   "name": "python",
   "nbconvert_exporter": "python",
   "pygments_lexer": "ipython3",
   "version": "3.6.6"
  }
 },
 "nbformat": 4,
 "nbformat_minor": 2
}
