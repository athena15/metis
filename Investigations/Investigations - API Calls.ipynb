{
 "cells": [
  {
   "cell_type": "code",
   "execution_count": 1,
   "metadata": {},
   "outputs": [],
   "source": [
    "import requests\n",
    "import pprint"
   ]
  },
  {
   "cell_type": "markdown",
   "metadata": {},
   "source": [
    "### Let's make an API call!"
   ]
  },
  {
   "cell_type": "code",
   "execution_count": 2,
   "metadata": {},
   "outputs": [],
   "source": [
    "# Find the endpoint for our data\n",
    "url = 'https://data.seattle.gov/resource/fire-911.json?'"
   ]
  },
  {
   "cell_type": "code",
   "execution_count": 3,
   "metadata": {},
   "outputs": [],
   "source": [
    "# Use Requests module to query the API\n",
    "r = requests.get(url)"
   ]
  },
  {
   "cell_type": "code",
   "execution_count": 4,
   "metadata": {},
   "outputs": [
    {
     "data": {
      "text/plain": [
       "200"
      ]
     },
     "execution_count": 4,
     "metadata": {},
     "output_type": "execute_result"
    }
   ],
   "source": [
    "# Make sure our request went through as planned\n",
    "# 200 = OK, 400 = Client Error, 404 = Not Found\n",
    "r.status_code"
   ]
  },
  {
   "cell_type": "code",
   "execution_count": 5,
   "metadata": {},
   "outputs": [
    {
     "name": "stdout",
     "output_type": "stream",
     "text": [
      "[{'type': ' --T::00'},\n",
      " {'address': '10049 College Way N',\n",
      "  'incident_number': 'F110104009',\n",
      "  'latitude': '47.701756',\n",
      "  'longitude': '-122.335022',\n",
      "  'report_location': {'latitude': '47.701756',\n",
      "                      'longitude': '-122.335022',\n",
      "                      'needs_recoding': False},\n",
      "  'type': 'Aid Response'},\n",
      " {'address': '5929 Beach Dr Sw',\n",
      "  'incident_number': 'F110104008',\n",
      "  'latitude': '47.550431',\n",
      "  'longitude': '-122.397816',\n",
      "  'report_location': {'latitude': '47.550431',\n",
      "                      'longitude': '-122.397816',\n",
      "                      'needs_recoding': False},\n",
      "  'type': 'Aid Response'}]\n"
     ]
    }
   ],
   "source": [
    "# Process the data, and make it pretty\n",
    "data = r.json()\n",
    "pprint.pprint(data[:3])"
   ]
  },
  {
   "cell_type": "code",
   "execution_count": null,
   "metadata": {},
   "outputs": [],
   "source": []
  },
  {
   "cell_type": "markdown",
   "metadata": {},
   "source": [
    "### Now let's take it a step further - filtering our data set to an address we're looking for"
   ]
  },
  {
   "cell_type": "code",
   "execution_count": 6,
   "metadata": {},
   "outputs": [],
   "source": [
    "# We can tell the API what data we want by using a filter. Let's filter for a specific address\n",
    "filters = 'address=5929 Beach Dr Sw'"
   ]
  },
  {
   "cell_type": "code",
   "execution_count": 7,
   "metadata": {},
   "outputs": [],
   "source": [
    "new_url = url + filters"
   ]
  },
  {
   "cell_type": "code",
   "execution_count": 8,
   "metadata": {},
   "outputs": [],
   "source": [
    "# Add HTML 'Headers', including our API key - this allows us to make more calls of the API\n",
    "# NOTE!!! Use %load_dotenv if your API key is sensitive - never post your key on Github!\n",
    "headers = {'APP_TOKEN': 'IpdmEzalN53LtblAij63MIIym'}"
   ]
  },
  {
   "cell_type": "code",
   "execution_count": 9,
   "metadata": {},
   "outputs": [],
   "source": [
    "# Calling the API - with our new filter, and the API key\n",
    "r = requests.get(new_url, headers=headers)"
   ]
  },
  {
   "cell_type": "code",
   "execution_count": 10,
   "metadata": {},
   "outputs": [
    {
     "data": {
      "text/plain": [
       "200"
      ]
     },
     "execution_count": 10,
     "metadata": {},
     "output_type": "execute_result"
    }
   ],
   "source": [
    "r.status_code"
   ]
  },
  {
   "cell_type": "code",
   "execution_count": 11,
   "metadata": {},
   "outputs": [
    {
     "name": "stdout",
     "output_type": "stream",
     "text": [
      "[{'address': '5929 Beach Dr Sw',\n",
      "  'incident_number': 'F110104008',\n",
      "  'latitude': '47.550431',\n",
      "  'longitude': '-122.397816',\n",
      "  'report_location': {'latitude': '47.550431',\n",
      "                      'longitude': '-122.397816',\n",
      "                      'needs_recoding': False},\n",
      "  'type': 'Aid Response'}]\n"
     ]
    }
   ],
   "source": [
    "data = r.json()\n",
    "pprint.pprint(data[:6])"
   ]
  },
  {
   "cell_type": "markdown",
   "metadata": {},
   "source": [
    "### Or, we can ask for only calls of 'Aid Response'"
   ]
  },
  {
   "cell_type": "code",
   "execution_count": 48,
   "metadata": {},
   "outputs": [],
   "source": [
    "filter = 'type=Aid Response'"
   ]
  },
  {
   "cell_type": "code",
   "execution_count": 49,
   "metadata": {},
   "outputs": [],
   "source": [
    "new_url = url + filter"
   ]
  },
  {
   "cell_type": "code",
   "execution_count": 51,
   "metadata": {},
   "outputs": [],
   "source": [
    "# Calling the API - with our new filter, and the API key\n",
    "r = requests.get(new_url, headers=headers)"
   ]
  },
  {
   "cell_type": "code",
   "execution_count": 52,
   "metadata": {},
   "outputs": [
    {
     "data": {
      "text/plain": [
       "200"
      ]
     },
     "execution_count": 52,
     "metadata": {},
     "output_type": "execute_result"
    }
   ],
   "source": [
    "r.status_code"
   ]
  },
  {
   "cell_type": "code",
   "execution_count": 54,
   "metadata": {},
   "outputs": [
    {
     "name": "stdout",
     "output_type": "stream",
     "text": [
      "[{'address': 'N 50th St / Stone Way N',\n",
      "  'datetime': 1320881520,\n",
      "  'incident_number': 'F110104164',\n",
      "  'latitude': '47.665034',\n",
      "  'longitude': '-122.340207',\n",
      "  'report_location': {'latitude': '47.665034',\n",
      "                      'longitude': '-122.340207',\n",
      "                      'needs_recoding': False},\n",
      "  'type': 'Aid Response'},\n",
      " {'address': 'E John St / E Olive Way',\n",
      "  'datetime': 1320881520,\n",
      "  'incident_number': 'F110104165',\n",
      "  'latitude': '47.619575',\n",
      "  'longitude': '-122.324257',\n",
      "  'report_location': {'latitude': '47.619575',\n",
      "                      'longitude': '-122.324257',\n",
      "                      'needs_recoding': False},\n",
      "  'type': 'Aid Response'},\n",
      " {'address': '611 12th Av S',\n",
      "  'datetime': 1320881340,\n",
      "  'incident_number': 'F110104162',\n",
      "  'latitude': '47.597406',\n",
      "  'longitude': '-122.317228',\n",
      "  'report_location': {'latitude': '47.597406',\n",
      "                      'longitude': '-122.317228',\n",
      "                      'needs_recoding': False},\n",
      "  'type': 'Aid Response'}]\n"
     ]
    }
   ],
   "source": [
    "data = r.json()\n",
    "pprint.pprint(data[:3])"
   ]
  },
  {
   "cell_type": "code",
   "execution_count": null,
   "metadata": {},
   "outputs": [],
   "source": []
  }
 ],
 "metadata": {
  "kernelspec": {
   "display_name": "Python 3",
   "language": "python",
   "name": "python3"
  },
  "language_info": {
   "codemirror_mode": {
    "name": "ipython",
    "version": 3
   },
   "file_extension": ".py",
   "mimetype": "text/x-python",
   "name": "python",
   "nbconvert_exporter": "python",
   "pygments_lexer": "ipython3",
   "version": "3.6.6"
  }
 },
 "nbformat": 4,
 "nbformat_minor": 2
}
